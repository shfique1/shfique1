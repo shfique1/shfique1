{
 "cells": [
  {
   "cell_type": "code",
   "execution_count": null,
   "id": "c5d8903b-124a-4256-877c-baa6f3670bd6",
   "metadata": {},
   "outputs": [],
   "source": [
    "987"
   ]
  },
  {
   "cell_type": "code",
   "execution_count": null,
   "id": "538bb78e-55c8-439a-8e59-4973fb01b60b",
   "metadata": {},
   "outputs": [],
   "source": [
    "345"
   ]
  },
  {
   "cell_type": "code",
   "execution_count": null,
   "id": "31ce63a7-d106-4843-9726-b6aa7f286017",
   "metadata": {},
   "outputs": [],
   "source": []
  },
  {
   "cell_type": "code",
   "execution_count": null,
   "id": "b434aa08-64d0-4c36-a77f-5cb92d8b37be",
   "metadata": {},
   "outputs": [],
   "source": []
  }
 ],
 "metadata": {
  "kernelspec": {
   "display_name": "Python 3 (ipykernel)",
   "language": "python",
   "name": "python3"
  },
  "language_info": {
   "name": ""
  }
 },
 "nbformat": 4,
 "nbformat_minor": 5
}
