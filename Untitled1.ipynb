{
 "cells": [
  {
   "cell_type": "code",
   "execution_count": null,
   "id": "c6a9d134-ac7f-4878-87bc-8786e3ce0ee1",
   "metadata": {},
   "outputs": [],
   "source": [
    "print('N')"
   ]
  },
  {
   "cell_type": "code",
   "execution_count": null,
   "id": "7f28e463-ba7f-4e25-9415-a0a4c5cf1ac1",
   "metadata": {},
   "outputs": [],
   "source": []
  },
  {
   "cell_type": "code",
   "execution_count": null,
   "id": "2abe206a-3ef1-48aa-80bb-0d8e9d677135",
   "metadata": {},
   "outputs": [],
   "source": [
    "9"
   ]
  }
 ],
 "metadata": {
  "kernelspec": {
   "display_name": "Python 3 (ipykernel)",
   "language": "python",
   "name": "python3"
  },
  "language_info": {
   "name": ""
  }
 },
 "nbformat": 4,
 "nbformat_minor": 5
}
